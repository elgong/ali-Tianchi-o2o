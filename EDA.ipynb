{
 "cells": [
  {
   "cell_type": "markdown",
   "metadata": {},
   "source": [
    "#  天池新人实战赛o2o优惠券使用预测"
   ]
  },
  {
   "cell_type": "code",
   "execution_count": 1,
   "metadata": {},
   "outputs": [],
   "source": [
    "import os\n",
    "import numpy as np\n",
    "import pandas as pd \n",
    "import matplotlib.pyplot as plt\n",
    "import seaborn as sns\n",
    "%matplotlib inline"
   ]
  },
  {
   "cell_type": "code",
   "execution_count": 2,
   "metadata": {},
   "outputs": [],
   "source": [
    "# 读取数据\n",
    "df_offline = pd.read_csv(\"./data/ccf_offline_stage1_train.csv\")\n",
    "#df_online = pd.read_csv(\"./data/ccf_online_stage1_train.csv\")\n",
    "df_test = pd.read_csv(\"./data/ccf_offline_stage1_test_revised.csv\")"
   ]
  },
  {
   "cell_type": "code",
   "execution_count": 3,
   "metadata": {},
   "outputs": [
    {
     "data": {
      "text/html": [
       "<div>\n",
       "<style scoped>\n",
       "    .dataframe tbody tr th:only-of-type {\n",
       "        vertical-align: middle;\n",
       "    }\n",
       "\n",
       "    .dataframe tbody tr th {\n",
       "        vertical-align: top;\n",
       "    }\n",
       "\n",
       "    .dataframe thead th {\n",
       "        text-align: right;\n",
       "    }\n",
       "</style>\n",
       "<table border=\"1\" class=\"dataframe\">\n",
       "  <thead>\n",
       "    <tr style=\"text-align: right;\">\n",
       "      <th></th>\n",
       "      <th>User_id</th>\n",
       "      <th>Merchant_id</th>\n",
       "      <th>Coupon_id</th>\n",
       "      <th>Discount_rate</th>\n",
       "      <th>Distance</th>\n",
       "      <th>Date_received</th>\n",
       "      <th>Date</th>\n",
       "    </tr>\n",
       "  </thead>\n",
       "  <tbody>\n",
       "    <tr>\n",
       "      <th>0</th>\n",
       "      <td>1439408</td>\n",
       "      <td>2632</td>\n",
       "      <td>NaN</td>\n",
       "      <td>NaN</td>\n",
       "      <td>0.0</td>\n",
       "      <td>NaN</td>\n",
       "      <td>20160217.0</td>\n",
       "    </tr>\n",
       "    <tr>\n",
       "      <th>1</th>\n",
       "      <td>1439408</td>\n",
       "      <td>4663</td>\n",
       "      <td>11002.0</td>\n",
       "      <td>150:20</td>\n",
       "      <td>1.0</td>\n",
       "      <td>20160528.0</td>\n",
       "      <td>NaN</td>\n",
       "    </tr>\n",
       "    <tr>\n",
       "      <th>2</th>\n",
       "      <td>1439408</td>\n",
       "      <td>2632</td>\n",
       "      <td>8591.0</td>\n",
       "      <td>20:1</td>\n",
       "      <td>0.0</td>\n",
       "      <td>20160217.0</td>\n",
       "      <td>NaN</td>\n",
       "    </tr>\n",
       "    <tr>\n",
       "      <th>3</th>\n",
       "      <td>1439408</td>\n",
       "      <td>2632</td>\n",
       "      <td>1078.0</td>\n",
       "      <td>20:1</td>\n",
       "      <td>0.0</td>\n",
       "      <td>20160319.0</td>\n",
       "      <td>NaN</td>\n",
       "    </tr>\n",
       "    <tr>\n",
       "      <th>4</th>\n",
       "      <td>1439408</td>\n",
       "      <td>2632</td>\n",
       "      <td>8591.0</td>\n",
       "      <td>20:1</td>\n",
       "      <td>0.0</td>\n",
       "      <td>20160613.0</td>\n",
       "      <td>NaN</td>\n",
       "    </tr>\n",
       "  </tbody>\n",
       "</table>\n",
       "</div>"
      ],
      "text/plain": [
       "   User_id  Merchant_id  Coupon_id Discount_rate  Distance  Date_received  \\\n",
       "0  1439408         2632        NaN           NaN       0.0            NaN   \n",
       "1  1439408         4663    11002.0        150:20       1.0     20160528.0   \n",
       "2  1439408         2632     8591.0          20:1       0.0     20160217.0   \n",
       "3  1439408         2632     1078.0          20:1       0.0     20160319.0   \n",
       "4  1439408         2632     8591.0          20:1       0.0     20160613.0   \n",
       "\n",
       "         Date  \n",
       "0  20160217.0  \n",
       "1         NaN  \n",
       "2         NaN  \n",
       "3         NaN  \n",
       "4         NaN  "
      ]
     },
     "execution_count": 3,
     "metadata": {},
     "output_type": "execute_result"
    }
   ],
   "source": [
    "# offline 文件\n",
    "df_offline.head()"
   ]
  },
  {
   "cell_type": "markdown",
   "metadata": {},
   "source": [
    "    User_id        用户id\n",
    "\n",
    "    Merchant_id     商家id\n",
    "\n",
    "    Coupon_id\t    优惠券id\n",
    "\n",
    "    Discount_rate\t  满x减y\n",
    "\n",
    "    Distance\t    x*500米,user常活动的地点与店铺距离，0：小于500米，10：大于5公里 \n",
    "\n",
    "    Date_received  \t领劵日期\n",
    "\n",
    "    Date          消费日期\n",
    "\n",
    "* 可能用的到的特征是“Discount_rate”“Distance”* \n"
   ]
  },
  {
   "cell_type": "code",
   "execution_count": 4,
   "metadata": {},
   "outputs": [],
   "source": [
    "# 去掉缺失值22-\n",
    "df_offline_drop_miss = df_offline[[\"Discount_rate\", \"Distance\"]].dropna()\n",
    "#df_offline_drop_miss = df_offline.dropna()"
   ]
  },
  {
   "cell_type": "code",
   "execution_count": 5,
   "metadata": {},
   "outputs": [
    {
     "data": {
      "text/plain": [
       "<matplotlib.axes._subplots.AxesSubplot at 0x1a51c34d860>"
      ]
     },
     "execution_count": 5,
     "metadata": {},
     "output_type": "execute_result"
    },
    {
     "data": {
      "image/png": "[encoded data removed]",
      "text/plain": [
       "<Figure size 432x288 with 1 Axes>"
      ]
     },
     "metadata": {
      "needs_background": "light"
     },
     "output_type": "display_data"
    }
   ],
   "source": [
    "#histogram\n",
    "sns.distplot(df_offline_drop_miss['Distance'])\n",
    "#"
   ]
  },
  {
   "cell_type": "markdown",
   "metadata": {},
   "source": [
    "## 处理标签\n",
    "\n",
    "\"Date\" 就是我们要预测的结果，但不是预测日期，而是有没有使用。\n",
    " 不同情况打上不同标签：\n",
    " 收到优惠卷，未消费： -1\n",
    " 未收到优惠卷，15天内消费： 0\n",
    " 收到优惠卷， 消费：  1"
   ]
  },
  {
   "cell_type": "code",
   "execution_count": null,
   "metadata": {},
   "outputs": [
    {
     "name": "stderr",
     "output_type": "stream",
     "text": [
      "C:\\ProgramData\\Anaconda3\\lib\\site-packages\\ipykernel_launcher.py:2: FutureWarning: Sorting because non-concatenation axis is not aligned. A future version\n",
      "of pandas will change to not sort by default.\n",
      "\n",
      "To accept the future behavior, pass 'sort=False'.\n",
      "\n",
      "To retain the current behavior and silence the warning, pass 'sort=True'.\n",
      "\n",
      "  \n"
     ]
    }
   ],
   "source": [
    "# 合并train 和test，同时做处理\n",
    "data = pd.concat([df_offline, df_test], keys=([\"train\", \"test\"]))\n",
    "\n",
    "#data[\"Date\"] = pd.to_datetime(date[\"Date\"],format=\"%Y%m%d\")\n",
    "#data[\"Date_received\"] = pd.to_datetime(date[\"Date_received\"],format=\"%Y%m%d\")\n",
    "\n",
    "def makeLabel(row):\n",
    "    if row[\"Date_received\"] == \"null\" and row[\"Date\"] != \"null\":\n",
    "        return 0\n",
    "    elif row[\"Date_received\"] != \"null\" and row[\"Date\"] != \"null\":\n",
    "        res = pd.to_datetime(row[\"Date\"],format=\"%Y%m%d\") - pd.to_datetime(row[\"Date_received\"],format=\"%Y%m%d\")\n",
    "        if res < pd.Timedelta(15,\"D\"):\n",
    "            return 1\n",
    "    return -1\n",
    "\n",
    "data[\"label\"] = data[:].apply(makeLabel, axis=1)\n",
    "data.head()"
   ]
  },
  {
   "cell_type": "markdown",
   "metadata": {},
   "source": [
    "## 特征\n",
    "\n",
    "### 1. 折扣率\n",
    "\n",
    "-  \"Discount_rate\"   满x减y\n",
    "-  用折扣率 1-y/x代替"
   ]
  },
  {
   "cell_type": "code",
   "execution_count": null,
   "metadata": {},
   "outputs": [],
   "source": [
    "## 特征1: 折扣率\n",
    "\n",
    "def rate(x):\n",
    "    x = str(x)\n",
    "    length = len(x)\n",
    "    a=1\n",
    "    b=1\n",
    "    if length == 3:\n",
    "        return 1.0\n",
    "    elif \":\" in x:\n",
    "        a,b = x.split(\":\")\n",
    "        return 1-float(b)/float(a)\n",
    "    else:\n",
    "        return x\n",
    "\n",
    "data[\"f_discount_rate\"] = data[\"Discount_rate\"].apply(lambda x : rate(x))\n",
    "\n"
   ]
  },
  {
   "cell_type": "markdown",
   "metadata": {},
   "source": [
    "### 2. 折扣类型\n",
    "\n",
    "-  1 满减\n",
    "-  2 折扣率\n",
    "-  3 无折扣\n",
    "\n",
    "* 然后  ont-hot 编码*"
   ]
  },
  {
   "cell_type": "code",
   "execution_count": null,
   "metadata": {},
   "outputs": [],
   "source": [
    "def discount_cls(x):\n",
    "    x = str(x)\n",
    "    length = len(x)\n",
    "    if length == 3:\n",
    "        return 3\n",
    "    elif \":\" in x:\n",
    "        return 1\n",
    "    else:\n",
    "        return 2\n",
    "\n",
    "data[\"f_discount_cls\"] = data[\"Discount_rate\"].copy()\n",
    "data[\"f_discount_cls\"] = data[\"f_discount_cls\"].apply(lambda x : discount_cls(x))\n",
    "\n",
    "from sklearn.preprocessing import OneHotEncoder\n",
    "ohe = OneHotEncoder(categorical_features=[0])\n",
    "ohe.fit_transform(X).toarray()"
   ]
  },
  {
   "cell_type": "code",
   "execution_count": null,
   "metadata": {},
   "outputs": [],
   "source": [
    "# 拆开数据\n",
    "train_data=data.xs('train')\n",
    "test_data=data.xs('test').drop(labels='Date',axis=1)\n",
    "\n",
    "x_train = train_data.drop(labels=\"Date\",axis=1).fillna(5.0)\n",
    "y_train = train_data[\"Date\"]\n",
    "x_test = test_data.fillna(0)\n",
    "x_train"
   ]
  },
  {
   "cell_type": "code",
   "execution_count": null,
   "metadata": {},
   "outputs": [],
   "source": [
    "from sklearn.preprocessing import StandardScaler\n",
    "from sklearn.linear_model import LogisticRegression\n",
    "\n",
    "S=StandardScaler()\n",
    "S.fit(x_train)\n",
    "x_train_stand=S.transform(x_train)\n",
    "x_test_stand=S.transform(x_test)\n",
    "Log=LogisticRegression(C=10)\n",
    "Log.fit(x_train_stand,y_train)  #训练模型\n",
    "prediction=Log.predict_proba(x_test_stand)  #用训练的模型Log来预测测试数据\n",
    "\n",
    "print(prediction[:,0])\n",
    "result=pd.DataFrame({'PassengerId':test_data.index,'Survived':prediction[:,0]})  #这里需要注意把prediction的数据转换成Int型不然系统判定不了，得分会为0 \n",
    "result.to_csv('.\\\\result.csv',index=False) #设置不输出Index"
   ]
  },
  {
   "cell_type": "code",
   "execution_count": null,
   "metadata": {},
   "outputs": [],
   "source": [
    "\n",
    "dftest1 = df_test[['User_id','Coupon_id','Date_received']].copy()\n",
    "dftest1['label'] = prediction[:,1]\n",
    "dftest1.to_csv('submit1.csv', index=False, header=False)\n",
    "dftest1.head()"
   ]
  },
  {
   "cell_type": "markdown",
   "metadata": {},
   "source": [
    "## 划分正负样本"
   ]
  },
  {
   "cell_type": "code",
   "execution_count": null,
   "metadata": {},
   "outputs": [],
   "source": [
    "# group = df_offline.groupby(\"Date\")\n",
    "# N_data = group.get_group(0)\n",
    "# P_data = group.get_group(1)\n",
    "# print(\"P : N = %d : %d \" %(len(N_data), len(P_data)))"
   ]
  },
  {
   "cell_type": "markdown",
   "metadata": {},
   "source": [
    "## 处理异常值"
   ]
  },
  {
   "cell_type": "code",
   "execution_count": null,
   "metadata": {},
   "outputs": [],
   "source": [
    "from sklearn.preprocessing import Imputer\n",
    "\n",
    "imputer = Imputer(missing_values='NaN', strategy='mean', axis=0)\n",
    "df_offline = imputer.fit(df_offline.transform(df_offline))"
   ]
  },
  {
   "cell_type": "markdown",
   "metadata": {},
   "source": [
    "## 特征间相关性分析"
   ]
  },
  {
   "cell_type": "code",
   "execution_count": null,
   "metadata": {},
   "outputs": [],
   "source": [
    "# corrmat = P_data[[\"Discount_rate\",\"Distance\",\"Date\"]].corr()\n",
    "# f, ax = plt.subplots(figsize=(20, 9))\n",
    "# sns.heatmap(corrmat, vmax=0.8, square=True)\n"
   ]
  },
  {
   "cell_type": "code",
   "execution_count": null,
   "metadata": {},
   "outputs": [],
   "source": []
  },
  {
   "cell_type": "code",
   "execution_count": null,
   "metadata": {},
   "outputs": [],
   "source": []
  }
 ],
 "metadata": {
  "kernelspec": {
   "display_name": "Python 3",
   "language": "python",
   "name": "python3"
  },
  "language_info": {
   "codemirror_mode": {
    "name": "ipython",
    "version": 3
   },
   "file_extension": ".py",
   "mimetype": "text/x-python",
   "name": "python",
   "nbconvert_exporter": "python",
   "pygments_lexer": "ipython3",
   "version": "3.7.3"
  }
 },
 "nbformat": 4,
 "nbformat_minor": 2
}

{
 "cells": [
  {
   "cell_type": "markdown",
   "metadata": {},
   "source": [
    "# 动手实现一下AUC\n",
    "\n",
    "> 二分类的auc计算。与sklearn进行了对比\n",
    "\n",
    "```\n",
    "sklearn： roc_curve(y, pred, pos_label=1)\n",
    "```"
   ]
  },
  {
   "cell_type": "code",
   "execution_count": 16,
   "metadata": {},
   "outputs": [],
   "source": [
    "import numpy as np\n",
    "from sklearn.metrics import roc_curve\n",
    "from sklearn.metrics import auc\n",
    "from time import time"
   ]
  },
  {
   "cell_type": "code",
   "execution_count": 19,
   "metadata": {},
   "outputs": [],
   "source": [
    "# y:     标签\n",
    "# pred： 预测值\n",
    "def myAUC(y, pred):\n",
    "\n",
    "    auc = 0.0\n",
    "    p_list = []  # 正负例的索引\n",
    "    n_list = []\n",
    "    for i, y_ in enumerate(y):\n",
    "        if y_ == 1:\n",
    "            p_list.append(i)\n",
    "        else:\n",
    "            n_list.append(i)\n",
    "    # 构成p-n对\n",
    "    p_n = [(i,j) for i in p_list for j in n_list]\n",
    "    \n",
    "    pn_len = len(p_n)\n",
    "    for tup in p_n:\n",
    "        if pred[tup[0]] > pred[tup[1]]:\n",
    "            auc += 1\n",
    "        elif pred[tup[0]] == pred[tup[1]]:\n",
    "            auc += 0.5\n",
    "    auc = auc/pn_len\n",
    "    return auc"
   ]
  },
  {
   "cell_type": "code",
   "execution_count": 20,
   "metadata": {},
   "outputs": [
    {
     "name": "stdout",
     "output_type": "stream",
     "text": [
      "sklearn AUC: 0.5666666666666667\n",
      "sklearn AUC time: 0.00032830238342285156\n",
      "\n",
      "myAUC: 0.5666666666666667\n",
      "myAUC time: 8.463859558105469e-05\n"
     ]
    }
   ],
   "source": [
    "## 产生一组数据\n",
    "y = np.array([1,0,0,0,1,0,1,0,])\n",
    "pred = np.array([0.9, 0.8, 0.3, 0.1,0.4,0.9,0.66,0.7])\n",
    "\n",
    "## sklearn 结果\n",
    "fpr, tpr, thresholds = roc_curve(y, pred, pos_label=1)\n",
    "\n",
    "tim = time()\n",
    "print(\"sklearn AUC:\",auc(fpr, tpr))\n",
    "print(\"sklearn AUC time:\", time()-tim)\n",
    "\n",
    "\n",
    "## myAUC 结果\n",
    "tim = time()\n",
    "print(\"\\nmyAUC:\",myAUC(y,pred))\n",
    "print(\"myAUC time:\", time()-tim)\n",
    "\n",
    "\n"
   ]
  },
  {
   "cell_type": "code",
   "execution_count": null,
   "metadata": {},
   "outputs": [],
   "source": []
  },
  {
   "cell_type": "code",
   "execution_count": null,
   "metadata": {},
   "outputs": [],
   "source": []
  },
  {
   "cell_type": "code",
   "execution_count": null,
   "metadata": {},
   "outputs": [],
   "source": []
  }
 ],
 "metadata": {
  "kernelspec": {
   "display_name": "Python 3",
   "language": "python",
   "name": "python3"
  },
  "language_info": {
   "codemirror_mode": {
    "name": "ipython",
    "version": 3
   },
   "file_extension": ".py",
   "mimetype": "text/x-python",
   "name": "python",
   "nbconvert_exporter": "python",
   "pygments_lexer": "ipython3",
   "version": "3.6.8"
  }
 },
 "nbformat": 4,
 "nbformat_minor": 2
}
